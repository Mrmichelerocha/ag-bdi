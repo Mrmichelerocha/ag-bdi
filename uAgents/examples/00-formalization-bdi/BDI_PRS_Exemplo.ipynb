{
  "nbformat": 4,
  "nbformat_minor": 0,
  "metadata": {
    "colab": {
      "provenance": []
    },
    "kernelspec": {
      "name": "python3",
      "display_name": "Python 3"
    },
    "language_info": {
      "name": "python"
    }
  },
  "cells": [
    {
      "cell_type": "code",
      "source": [
        "class PlanLibrary:\n",
        "    def __init__(self):\n",
        "        self.plans = {}\n",
        "\n",
        "    def set_plan_library(self, planlb):\n",
        "        self.plans = planlb\n",
        "\n",
        "    def add_plan(self, goal, prec, plan):\n",
        "        # cria um dicionário indexado por goal, explicitando contexto (pré-condição) e o plano (sequencia de ações ou sub-objetivos)\n",
        "        self.plans[goal] = {'context': prec, 'plan': plan}\n",
        "\n",
        "    def get_plan(self, goal, bb):\n",
        "        # se o objetivo possui planos para alcançalo\n",
        "        if goal in self.plans:\n",
        "            # verifico se as pré condições são satisfeitas (estão na Belief Base)\n",
        "            if(set(self.plans[goal]['context'].items()).issubset(bb.items())):\n",
        "                # retorno o plano para atingir aquele objetivo\n",
        "                return self.plans[goal]['plan']\n",
        "        return None"
      ],
      "metadata": {
        "id": "hlPcT1kgjZxB"
      },
      "execution_count": null,
      "outputs": []
    },
    {
      "cell_type": "code",
      "source": [
        "# AÇÔES DISPONÍVEIS #\n",
        "# Cada função/método corresponde a uma ação (por momento apenas simulada)\n",
        "\n",
        "class Action:\n",
        "\n",
        "    def ajustar_temperatura(self):\n",
        "        print(\"###> temperatura ajustada <### \")\n",
        "\n",
        "    def desligar(self):\n",
        "        print(\"###> desligado <### \")"
      ],
      "metadata": {
        "id": "1k8Ql6ywnUwz"
      },
      "execution_count": null,
      "outputs": []
    },
    {
      "cell_type": "code",
      "execution_count": null,
      "metadata": {
        "id": "zu-lc9gBjOqV"
      },
      "outputs": [],
      "source": [
        "class Agent:\n",
        "    def __init__(self):\n",
        "\n",
        "        self.beliefs = {}\n",
        "\n",
        "        self.desires = []\n",
        "        self.intention = []\n",
        "        self.plan_library = PlanLibrary()\n",
        "\n",
        "    def get_desires(self):\n",
        "        return self.desires.pop()\n",
        "    def add_desires(self, desire):\n",
        "        return self.desires.append(desire)\n",
        "    def add_beliefs(self, beliefs):\n",
        "        return self.beliefs.update(beliefs)\n",
        "    def set_plan_library(self, pl):\n",
        "        return self.plan_library.set_plan_library(pl)\n",
        "    def get_plan_library(self):\n",
        "        return self.plan_library\n",
        "\n",
        "\n",
        "    def update_intention(self, goal):\n",
        "        plan = self.plan_library.get_plan(goal,self.beliefs)\n",
        "        if plan:\n",
        "            self.intention.extend(plan)\n",
        "\n",
        "    def execute_intention(self):\n",
        "        while self.intention:\n",
        "            next = self.intention.pop()\n",
        "            print(next)\n",
        "            if self.plan_library.get_plan(next,self.beliefs) == None:\n",
        "                next_action = Action()\n",
        "                action = getattr(next_action, next)\n",
        "                action()\n",
        "            else:\n",
        "                self.intention.extend(self.plan_library.get_plan(next,self.beliefs))\n",
        "\n"
      ]
    },
    {
      "cell_type": "code",
      "source": [
        "agent = Agent()\n",
        "\n",
        "# inicializa o agente com crenças, desejo, e a plan library\n",
        "# Estrutura da BB (Belief Base) : { KEY : VALUE, KEY2 ... }\n",
        "agent.add_beliefs({'horario_passado': 19,\n",
        "                   'local':'quarto',\n",
        "                   'temperatura_diferente': 24,\n",
        "                   'lampada':'ON'})\n",
        "\n",
        "agent.add_desires(\"regular_ambiente\")\n",
        "\n",
        "# Estrutura do dict : { GOAL : { CONTEXT : {set of beliefs}, PLAN: [sequence of actions] }, GOAL2 ... }\n",
        "agent.set_plan_library({\n",
        "            'regular_ambiente': {\n",
        "                'context': {'horario_passado': 19, 'local':'quarto'},\n",
        "                'plan' : ['regular_temperatura','regular_iluminacao']\n",
        "            },\n",
        "            'regular_temperatura': {\n",
        "                'context': {'temperatura_diferente': 24},\n",
        "                'plan' : ['ajustar_temperatura']\n",
        "            },\n",
        "            'regular_iluminacao': {\n",
        "                'context': {'lampada': 'ON'},\n",
        "                'plan' : ['desligar']\n",
        "            }\n",
        "        })\n",
        "\n",
        "# decide o proximo 'goal' de acordo com os desejos do agente\n",
        "goal = agent.get_desires()\n",
        "\n",
        "# cria uma intenção para perseguir aquele objetivo, ou seja, busca um plano para tingir aquele objetivo\n",
        "agent.update_intention(goal)\n",
        "\n",
        "# executa o plano (resolvendo automaticamente subobjetivos)\n",
        "agent.execute_intention()\n"
      ],
      "metadata": {
        "colab": {
          "base_uri": "https://localhost:8080/"
        },
        "id": "65MzaWTqueCZ",
        "outputId": "844f5e8f-fbdd-4879-b0e1-fb1eef14aa66"
      },
      "execution_count": null,
      "outputs": [
        {
          "output_type": "stream",
          "name": "stdout",
          "text": [
            "regular_iluminacao\n",
            "desligar\n",
            "###> desligado <### \n",
            "regular_temperatura\n",
            "ajustar_temperatura\n",
            "###> temperatura ajustada <### \n"
          ]
        }
      ]
    }
  ]
}